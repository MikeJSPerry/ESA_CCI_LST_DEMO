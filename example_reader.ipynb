{
 "cells": [
  {
   "cell_type": "markdown",
   "metadata": {},
   "source": [
    "Import the relevant python modules required for the example: xarray and matplotlib"
   ]
  },
  {
   "cell_type": "code",
   "execution_count": null,
   "metadata": {},
   "outputs": [],
   "source": [
    "import xarray as xr\n",
    "import numpy as np\n",
    "import matplotlib.pyplot as plt\n",
    "import pandas as pd\n",
    "from SubRoutines.indexing import find_matching_index\n",
    "from SubRoutines.plotting import lccs_manger"
   ]
  },
  {
   "cell_type": "markdown",
   "metadata": {},
   "source": [
    "Specify the file to read in. In this case we are reading LST derived from MODIS AQUA, the data has been process to L3 and therefore has been reprojected to a regular grid (0.25 degrees in this example): "
   ]
  },
  {
   "cell_type": "code",
   "execution_count": null,
   "metadata": {},
   "outputs": [],
   "source": [
    "esacci_lst_025 = \"Data/ESACCI-LST-L3C-LST-MODISA-0.25deg_1MONTHLY_DAY-20060701000000-fv3.00.nc\""
   ]
  },
  {
   "cell_type": "markdown",
   "metadata": {},
   "source": [
    "Open file using xarray (xr), the file will be read into a dataset (ds) structure:"
   ]
  },
  {
   "cell_type": "code",
   "execution_count": null,
   "metadata": {},
   "outputs": [],
   "source": [
    "ds = xr.load_dataset(esacci_lst_025)"
   ]
  },
  {
   "cell_type": "markdown",
   "metadata": {},
   "source": [
    "We can display the data within the dataset easily:"
   ]
  },
  {
   "cell_type": "code",
   "execution_count": null,
   "metadata": {},
   "outputs": [],
   "source": [
    "ds"
   ]
  },
  {
   "cell_type": "markdown",
   "metadata": {},
   "source": [
    "We can also plot the lst data directly (size and aspect are added here to make the image larger, but are not required):"
   ]
  },
  {
   "cell_type": "code",
   "execution_count": null,
   "metadata": {},
   "outputs": [],
   "source": [
    "ds.lst.plot(aspect=2,size=8)"
   ]
  },
  {
   "cell_type": "markdown",
   "metadata": {},
   "source": [
    "We can also look at the global distribution of LST:"
   ]
  },
  {
   "cell_type": "code",
   "execution_count": null,
   "metadata": {},
   "outputs": [],
   "source": [
    "ds.lst.plot.hist(size=8,bins=50, alpha=0.5, color='steelblue',edgecolor='grey')\n",
    ";"
   ]
  },
  {
   "cell_type": "markdown",
   "metadata": {},
   "source": [
    "And we can look at specifc regions, first lets set our region of interest: "
   ]
  },
  {
   "cell_type": "code",
   "execution_count": null,
   "metadata": {},
   "outputs": [],
   "source": [
    "lower_lon = 105.0\n",
    "upper_lon = 145.0\n",
    "lower_lat = 25.0\n",
    "upper_lat = 65.0"
   ]
  },
  {
   "cell_type": "markdown",
   "metadata": {},
   "source": [
    "Next we find the indexes in the dataset which bound this region:"
   ]
  },
  {
   "cell_type": "code",
   "execution_count": null,
   "metadata": {},
   "outputs": [],
   "source": [
    "lat_max_idx = find_matching_index(ds.lat.values,upper_lat)\n",
    "lat_min_idx = find_matching_index(ds.lat.values,lower_lat)\n",
    "lon_max_idx = find_matching_index(ds.lon.values,upper_lon)\n",
    "lon_min_idx = find_matching_index(ds.lon.values,lower_lon)"
   ]
  },
  {
   "cell_type": "markdown",
   "metadata": {},
   "source": [
    "Ready to go. First we use \"slice\" to cut our the region of interest for both the lat and lon determined by the indexes we just determined. Then the plotting code is updated to use this region:"
   ]
  },
  {
   "cell_type": "code",
   "execution_count": null,
   "metadata": {},
   "outputs": [],
   "source": [
    "lat_region = slice(lat_min_idx, lat_max_idx)\n",
    "lon_region = slice(lon_min_idx,lon_max_idx)\n",
    "ds.lst.isel(lat=lat_region,lon=lon_region).plot(aspect=2,size=8)"
   ]
  },
  {
   "cell_type": "markdown",
   "metadata": {},
   "source": [
    "We can also run for transects. Similar to the region subsetting above, we specify at latitute, then find the corresponding index in the array and plot all longitudes at that latitude:"
   ]
  },
  {
   "cell_type": "code",
   "execution_count": null,
   "metadata": {},
   "outputs": [],
   "source": [
    "lat_transect = 50.0\n",
    "lat_idx = find_matching_index(ds.lat.values, lat_transect)\n",
    "ds.lst.isel(lat=lat_idx).plot(aspect=2,size=8)"
   ]
  },
  {
   "cell_type": "markdown",
   "metadata": {},
   "source": [
    "We can also explore some of the other paramters provided with the LST CCI data by looking at another product. Here we will use some 0.01 degree MODIS AQUA data that has been regridded to a subset (lat: 40-->45, lon: 117-->122):"
   ]
  },
  {
   "cell_type": "code",
   "execution_count": null,
   "metadata": {},
   "outputs": [],
   "source": [
    "esacci_lst_001 =\"Data/ESACCI-LST-L3C-LST-MODISA-0.01deg_1MONTHLY_DAY-20220901103756-fv3.00.nc\"\n",
    "regridded_ds = xr.open_dataset(esacci_lst_001)"
   ]
  },
  {
   "cell_type": "code",
   "execution_count": null,
   "metadata": {},
   "outputs": [],
   "source": [
    "\n",
    "regridded_ds.lst.plot(aspect=2,size=8)\n",
    "plt.title(f\"time = {np.datetime_as_string(regridded_ds.time.values[0],unit='M')}\")\n",
    ";"
   ]
  },
  {
   "cell_type": "markdown",
   "metadata": {},
   "source": [
    "The data contains several variables that were not in the 0.25 degree data such as land cover classification (lcc):"
   ]
  },
  {
   "cell_type": "code",
   "execution_count": null,
   "metadata": {},
   "outputs": [],
   "source": [
    "lccs_data = lccs_manger(regridded_ds)\n",
    "lccs_data.analyse_region()\n",
    "lccs_data.plot_map()"
   ]
  },
  {
   "cell_type": "markdown",
   "metadata": {},
   "source": [
    "We can inspect the corresponding values of these classes in the attributes:"
   ]
  },
  {
   "cell_type": "code",
   "execution_count": null,
   "metadata": {},
   "outputs": [],
   "source": [
    "regridded_ds.lcc.attrs"
   ]
  },
  {
   "cell_type": "markdown",
   "metadata": {},
   "source": [
    "We can also inspect the distribution of these lccs:\n",
    "\n",
    "Note the plot currently displays as a percentage cover of the region interest. If you would prefer the raw number of pixels in each class change \"percentage=True\" to \"precentage=False\"."
   ]
  },
  {
   "cell_type": "code",
   "execution_count": null,
   "metadata": {},
   "outputs": [],
   "source": [
    "lccs_data.plot_distribution(percentage=True)"
   ]
  },
  {
   "cell_type": "markdown",
   "metadata": {},
   "source": [
    "This can be correlated against LST to see the lcc distribution of temperature."
   ]
  },
  {
   "cell_type": "code",
   "execution_count": null,
   "metadata": {},
   "outputs": [],
   "source": [
    "lccs_data.bin_lst_by_lcc()\n",
    "lccs_data.box_plot()"
   ]
  },
  {
   "cell_type": "markdown",
   "metadata": {},
   "source": [
    "For more information on the distribution of LST in the LCC classes we can have access to all the data for analysis such as a volin plot:"
   ]
  },
  {
   "cell_type": "code",
   "execution_count": null,
   "metadata": {},
   "outputs": [],
   "source": [
    "lccs_data.volin_plot()"
   ]
  }
 ],
 "metadata": {
  "interpreter": {
   "hash": "1764e7ccd60fc0e7e6c09611d3d36905829a48d36299eebc9676f3f1aefeb29e"
  },
  "kernelspec": {
   "display_name": "Python 3.9.12 64-bit ('cci': conda)",
   "language": "python",
   "name": "python3"
  },
  "language_info": {
   "codemirror_mode": {
    "name": "ipython",
    "version": 3
   },
   "file_extension": ".py",
   "mimetype": "text/x-python",
   "name": "python",
   "nbconvert_exporter": "python",
   "pygments_lexer": "ipython3",
   "version": "3.9.12"
  },
  "orig_nbformat": 4
 },
 "nbformat": 4,
 "nbformat_minor": 2
}
