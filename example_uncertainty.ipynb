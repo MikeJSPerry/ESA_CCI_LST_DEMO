{
 "cells": [
  {
   "cell_type": "markdown",
   "metadata": {},
   "source": [
    "Import the relevant python modules required for the example: xarray and matplotlib"
   ]
  },
  {
   "cell_type": "code",
   "execution_count": null,
   "metadata": {},
   "outputs": [],
   "source": [
    "import xarray as xr\n",
    "import numpy as np\n",
    "import matplotlib.pyplot as plt\n",
    "from SubRoutines.indexing import find_matching_index\n",
    "from SubRoutines.plotting import pannel_plot, pannel_hist"
   ]
  },
   {
   "cell_type": "markdown",
   "metadata": {},
   "source": [
    "Read in the dataset"
   ]
  },
  {
   "cell_type": "code",
   "execution_count": null,
   "metadata": {},
   "outputs": [],
   "source": [
    "esacci_lst_025 = \"Data/ESACCI-LST-L3C-LST-MODISA-0.25deg_1MONTHLY_DAY-20060701000000-fv3.00.nc\"\n",
    "ds = xr.load_dataset(esacci_lst_025)"
   ]
  },
   {
   "cell_type": "markdown",
   "metadata": {},
   "source": [
    "Display the contents of the dataset"
   ]
  },
  {
   "cell_type": "code",
   "execution_count": null,
   "metadata": {},
   "outputs": [],
   "source": [
    "ds"
   ]
  },
 {
   "cell_type": "markdown",
   "metadata": {},
   "source": [
    "We can plot the total uncertainty in LST across the globe.  The largest uncertainties can be seen in regions where data coverage is limited due to cloud cover, including the Saharan Desert and across India.  Total cloud cover can be seasonal so the areas of largest uncertainty may vary."
   ]
  },
  {
   "cell_type": "code",
   "execution_count": null,
   "metadata": {},
   "outputs": [],
   "source": [
    "ds.lst_uncertainty.plot(size=8,aspect=2,robust=True)"
   ]
  },
  {
   "cell_type": "markdown",
   "metadata": {},
   "source": [
    "Next we can plot a smaller region of the globe to look at the uncertainties in more detail.  Zooming in on this region over China and Japan we can see that some surface features appear in the uncertainty data.  This is because there is a component of the uncertainty that is related to our representation of the land cover.  There are also larger uncertainties along the coast, particularly evident around the islands where there are fewer satellite observations over land within these grid boxes (some are neighbouring ocean pixels) so there are less data going into the LST estimate.  The panel plots below show the different uncertainty components that form the total uncertainty.  The surface features such as rivers and high ground are evident in the bottom right plot.  The larger uncertainties along the coast are split between the surface, atmosphere and random components (note that the colourbar scales are different for each component).  Random uncertainties include instrument noise and sampling - these are uncertainties that are uncorrelated between neighbouring LST values.  Try changing the region by editing the code above so that you can see how the uncertainties vary in the part of the world you are most interested in."
   ]
  },
  {
   "cell_type": "code",
   "execution_count": null,
   "metadata": {},
   "outputs": [],
   "source": [
    "lower_lon = 105.0\n",
    "upper_lon = 145.0\n",
    "lower_lat = 25.0\n",
    "upper_lat = 65.0\n",
    "lat_max_idx = find_matching_index(ds.lat.values,upper_lat)\n",
    "lat_min_idx = find_matching_index(ds.lat.values,lower_lat)\n",
    "lon_max_idx = find_matching_index(ds.lon.values,upper_lon)\n",
    "lon_min_idx = find_matching_index(ds.lon.values,lower_lon)\n",
    "lat_region = slice(lat_min_idx, lat_max_idx)\n",
    "lon_region = slice(lon_min_idx,lon_max_idx)"
   ]
  },
  {
   "cell_type": "code",
   "execution_count": null,
   "metadata": {},
   "outputs": [],
   "source": [
    "ds.lst_uncertainty.isel(lat=lat_region, lon=lon_region).plot(size=8,aspect=2, robust=True)"
   ]
  },
  {
   "cell_type": "code",
   "execution_count": null,
   "metadata": {},
   "outputs": [],
   "source": [
    "\n",
    "pannel_plot(ds,lat_region,lon_region)"
   ]
  },
  {
   "cell_type": "markdown",
   "metadata": {},
   "source": [
    "We can plot a histogram of the total uncertainties over this region and alhtough there are one or two larger values, we find that the uncertainties typically range between 0.5-1 K."
   ]
  },
  {
   "cell_type": "code",
   "execution_count": null,
   "metadata": {},
   "outputs": [],
   "source": [
    "ds.lst_uncertainty.isel(lat=lat_region, lon=lon_region).plot.hist(size=8,bins=50, alpha=0.5, color='steelblue',edgecolor='grey')\n",
    ";"
   ]
  },
  {
   "cell_type": "markdown",
   "metadata": {},
   "source": [
    "Similarly we can plot histograms of the different uncertainty components.  In this particular region the largest uncertainties are arising from the surface component."
   ]
  },
  {
   "cell_type": "code",
   "execution_count": null,
   "metadata": {},
   "outputs": [],
   "source": [
    "pannel_hist(ds,lat_region,lon_region)"
   ]
  },
  {
   "cell_type": "markdown",
   "metadata": {},
   "source": [
    "To see the different uncertainty contributions and how they propogate we will manually calculate the total uncertainty from the components. First we assign a point to do the calculation for:"
   ]
  },
  {
   "cell_type": "code",
   "execution_count": null,
   "metadata": {},
   "outputs": [],
   "source": [
    "lat_point, lon_point = 35.0, 115.0\n",
    "\n",
    "lat_idx = find_matching_index(ds.lat.values, lat_point)\n",
    "lon_idx = find_matching_index(ds.lon.values, lon_point)"
   ]
  },
  {
   "cell_type": "markdown",
   "metadata": {},
   "source": [
    "Then we extract the total uncertainty and the uncertainty components for that point:"
   ]
  },
  {
   "cell_type": "code",
   "execution_count": null,
   "metadata": {},
   "outputs": [],
   "source": [
    "point_total_uncertainty = ds.lst_uncertainty.isel(lat=lat_idx,lon=lon_idx).values[0]\n",
    "\n",
    "ran = ds.lst_unc_ran.isel(lat=lat_idx,lon=lon_idx).values[0]\n",
    "atm = ds.lst_unc_loc_atm.isel(lat=lat_idx,lon=lon_idx).values[0]\n",
    "sfc = ds.lst_unc_loc_sfc.isel(lat=lat_idx,lon=lon_idx).values[0]\n",
    "sys = ds.lst_unc_sys.isel(lat=lat_idx,lon=lon_idx).values[0]\n",
    "print(f\"Total: {point_total_uncertainty:.3f}\"[:-1])\n",
    "print(f\"random: {ran:.3f}, atmosphere: {atm:.3f}, surface: {sfc:.3f}, systematic: {sys:3f}\")"
   ]
  },
  {
   "cell_type": "markdown",
   "metadata": {},
   "source": [
    "To combine the components to make the total uncertainty they are added in quadrature:"
   ]
  },
  {
   "cell_type": "code",
   "execution_count": null,
   "metadata": {},
   "outputs": [],
   "source": [
    "calculated_total = np.sqrt(ran**2 + atm**2 + sfc**2 + sys**2)\n",
    "print(f\"Calculated total: {calculated_total:.3f}\"[:-1])"
   ]
  },
  {
   "cell_type": "markdown",
   "metadata": {},
   "source": [
    "The uncertainty can be used to give context to the LST in terms of the degree to which we have confidence in the LST value. We can visualise this on a LST transect:"
   ]
  },
  {
   "cell_type": "code",
   "execution_count": null,
   "metadata": {},
   "outputs": [],
   "source": [
    "lat_transect = 30.0\n",
    "lower_lon = 5.0\n",
    "upper_lon = 9.0\n",
    "\n",
    "lat_idx = find_matching_index(ds.lat.values, lat_transect)\n",
    "lon_max_idx = find_matching_index(ds.lon.values,upper_lon)\n",
    "lon_min_idx = find_matching_index(ds.lon.values,lower_lon)\n",
    "lon_segment = slice(lon_min_idx,lon_max_idx)\n",
    "transect = ds.isel(lat=lat_idx,lon=lon_segment).squeeze()"
   ]
  },
  {
   "cell_type": "markdown",
   "metadata": {},
   "source": [
    "Now we can plot the LST with a region bounded by the uncertainty shown:"
   ]
  },
  {
   "cell_type": "code",
   "execution_count": null,
   "metadata": {},
   "outputs": [],
   "source": [
    "upper_bound = transect.lst.values+transect.lst_uncertainty.values\n",
    "lower_bound = transect.lst.values-transect.lst_uncertainty.values\n",
    "\n",
    "fig, ax = plt.subplots(figsize=(16,8))\n",
    "transect.lst.plot(ax=ax)\n",
    "ax.fill_between(transect.lon.values,upper_bound,lower_bound,alpha=0.2)\n"
   ]
  }
 ],
 "metadata": {
  "interpreter": {
   "hash": "1764e7ccd60fc0e7e6c09611d3d36905829a48d36299eebc9676f3f1aefeb29e"
  },
  "kernelspec": {
   "display_name": "Python 3.9.12 64-bit ('cci': conda)",
   "language": "python",
   "name": "python3"
  },
  "language_info": {
   "codemirror_mode": {
    "name": "ipython",
    "version": 3
   },
   "file_extension": ".py",
   "mimetype": "text/x-python",
   "name": "python",
   "nbconvert_exporter": "python",
   "pygments_lexer": "ipython3",
   "version": "3.9.12"
  },
  "orig_nbformat": 4
 },
 "nbformat": 4,
 "nbformat_minor": 2
}
